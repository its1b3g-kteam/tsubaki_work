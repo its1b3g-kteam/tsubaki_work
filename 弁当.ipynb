{
 "cells": [
  {
   "cell_type": "code",
   "execution_count": null,
   "metadata": {},
   "outputs": [],
   "source": []
  },
  {
   "cell_type": "code",
   "execution_count": 1,
   "metadata": {},
   "outputs": [],
   "source": [
    "import pandas as pd\n",
    "import numpy as np\n",
    "import matplotlib.pyplot as plt\n",
    "import seaborn as sns\n",
    "%matplotlib inline\n",
    "sns.set()"
   ]
  },
  {
   "cell_type": "code",
   "execution_count": 2,
   "metadata": {},
   "outputs": [],
   "source": [
    "#データの読み込み\n",
    "\n",
    "lunch_train_data = pd.read_csv(\"train.csv\")\n",
    "lunch_test_data = pd.read_csv(\"test.csv\")"
   ]
  },
  {
   "cell_type": "code",
   "execution_count": null,
   "metadata": {},
   "outputs": [],
   "source": [
    "print(\"trainデータの大きさ\",lunch_train_data.shape)\n",
    "print(\"testデータの大きさ\",lunch_test_data.shape)"
   ]
  },
  {
   "cell_type": "code",
   "execution_count": null,
   "metadata": {},
   "outputs": [],
   "source": [
    "#カラム名\n",
    "\n",
    "lunch_train_data.columns\n",
    "\n",
    "#y→販売数\n",
    "#week→曜日\n",
    "#soldoutm→完売フラグ\n",
    "#name→メインメニュー\n",
    "#kcal→おかずのカロリー\n",
    "#remarks→特記事項\n",
    "#event→社内イベント\n",
    "#payday→給料フラグ"
   ]
  },
  {
   "cell_type": "code",
   "execution_count": null,
   "metadata": {},
   "outputs": [],
   "source": [
    "lunch_train_data.dtypes"
   ]
  },
  {
   "cell_type": "code",
   "execution_count": null,
   "metadata": {},
   "outputs": [],
   "source": [
    "lunch_train_data.head(10)"
   ]
  },
  {
   "cell_type": "code",
   "execution_count": null,
   "metadata": {},
   "outputs": [],
   "source": []
  },
  {
   "cell_type": "code",
   "execution_count": null,
   "metadata": {},
   "outputs": [],
   "source": [
    "lunch_test_data.head()"
   ]
  },
  {
   "cell_type": "code",
   "execution_count": null,
   "metadata": {},
   "outputs": [],
   "source": [
    "#各カラムの欠損数\n",
    "lunch_train_data.isnull().sum()"
   ]
  },
  {
   "cell_type": "markdown",
   "metadata": {},
   "source": [
    "    期間　2013-11-18 ～ 2014-9-30"
   ]
  },
  {
   "cell_type": "markdown",
   "metadata": {},
   "source": [
    "# 販売数、気温の推移"
   ]
  },
  {
   "cell_type": "code",
   "execution_count": null,
   "metadata": {
    "scrolled": true
   },
   "outputs": [],
   "source": [
    "#販売数の推移\n",
    "\n",
    "x1 = pd.date_range('2013-11-18 00:00:00',periods=207,freq='B')\n",
    "\n",
    "x2 = pd.date_range('2014-10-01 00:00:00',periods=40,freq='B')\n",
    "\n",
    "plt.figure(figsize=(12,4))\n",
    "plt.plot(x1,lunch_train_data[\"y\"],label=\"sales\",c = \"red\")\n",
    "\n",
    "plt.plot(x2,y_pred_int,label=\"pred sales\",c = \"c\")\n",
    "plt.plot(x2,y_pred_int_h,label=\"std pred sales\",c = \"b\")\n",
    "\n",
    "plt.title(\"Sales trend\")\n",
    "plt.ylabel(\"Number of sales\")\n",
    "plt.xlabel(\"Date\")\n",
    "plt.legend()\n"
   ]
  },
  {
   "cell_type": "code",
   "execution_count": null,
   "metadata": {},
   "outputs": [],
   "source": [
    "#気温の推移\n",
    "plt.figure(figsize=(12,4))\n",
    "plt.plot(x1,lunch_train_data[\"temperature\"],label=\"temperature\",c= \"blue\")\n",
    "\n",
    "plt.plot(x2,lunch_test_data[\"temperature\"],label=\"temperature\",c= \"c\")\n",
    "\n",
    "plt.title(\"Temperature change\")\n",
    "plt.ylabel(\"temperature\")\n",
    "plt.xlabel(\"Date\")\n",
    "plt.legend()"
   ]
  },
  {
   "cell_type": "code",
   "execution_count": null,
   "metadata": {},
   "outputs": [],
   "source": [
    "lunch_train_data[\"month\"] = pd.to_datetime(lunch_train_data[\"datetime\"]).dt.month"
   ]
  },
  {
   "cell_type": "code",
   "execution_count": null,
   "metadata": {},
   "outputs": [],
   "source": [
    "lunch_train_data[\"month\"].value_counts()"
   ]
  },
  {
   "cell_type": "code",
   "execution_count": null,
   "metadata": {},
   "outputs": [],
   "source": []
  },
  {
   "cell_type": "code",
   "execution_count": null,
   "metadata": {},
   "outputs": [],
   "source": []
  },
  {
   "cell_type": "code",
   "execution_count": null,
   "metadata": {},
   "outputs": [],
   "source": [
    "lunch_train_data[lunch_train_data[\"month\"] == 11].sort_values(\"y\",ascending = False).head()"
   ]
  },
  {
   "cell_type": "code",
   "execution_count": null,
   "metadata": {},
   "outputs": [],
   "source": [
    "lunch_train_data[lunch_train_data[\"month\"] == 12].sort_values(\"y\",ascending = False).head()"
   ]
  },
  {
   "cell_type": "code",
   "execution_count": null,
   "metadata": {},
   "outputs": [],
   "source": [
    "lunch_train_data[lunch_train_data[\"month\"] == 1].sort_values(\"y\",ascending = False).head()"
   ]
  },
  {
   "cell_type": "code",
   "execution_count": null,
   "metadata": {},
   "outputs": [],
   "source": [
    "lunch_train_data[lunch_train_data[\"month\"] == 2].sort_values(\"y\",ascending = False).head()"
   ]
  },
  {
   "cell_type": "code",
   "execution_count": null,
   "metadata": {},
   "outputs": [],
   "source": [
    "lunch_train_data[lunch_train_data[\"month\"] == 3].sort_values(\"y\",ascending = False).head()"
   ]
  },
  {
   "cell_type": "code",
   "execution_count": null,
   "metadata": {},
   "outputs": [],
   "source": [
    "lunch_train_data[lunch_train_data[\"month\"] == 4].sort_values(\"y\",ascending = False).head()"
   ]
  },
  {
   "cell_type": "code",
   "execution_count": null,
   "metadata": {},
   "outputs": [],
   "source": [
    "lunch_train_data[lunch_train_data[\"month\"] == 5].sort_values(\"y\",ascending = False).head()"
   ]
  },
  {
   "cell_type": "code",
   "execution_count": null,
   "metadata": {},
   "outputs": [],
   "source": [
    "lunch_train_data[lunch_train_data[\"month\"] == 6].sort_values(\"y\",ascending = False).head()"
   ]
  },
  {
   "cell_type": "code",
   "execution_count": null,
   "metadata": {},
   "outputs": [],
   "source": [
    "lunch_train_data[lunch_train_data[\"month\"] == 7].sort_values(\"y\",ascending = False).head(15)"
   ]
  },
  {
   "cell_type": "code",
   "execution_count": null,
   "metadata": {},
   "outputs": [],
   "source": []
  },
  {
   "cell_type": "code",
   "execution_count": null,
   "metadata": {},
   "outputs": [],
   "source": [
    "lunch_train_data[lunch_train_data[\"month\"] == 8].sort_values(\"y\",ascending = False).head(15)"
   ]
  },
  {
   "cell_type": "code",
   "execution_count": null,
   "metadata": {},
   "outputs": [],
   "source": [
    "lunch_train_data[lunch_train_data[\"month\"] == 9].sort_values(\"y\",ascending = False).head(15)"
   ]
  },
  {
   "cell_type": "code",
   "execution_count": null,
   "metadata": {},
   "outputs": [],
   "source": []
  },
  {
   "cell_type": "code",
   "execution_count": null,
   "metadata": {},
   "outputs": [],
   "source": []
  },
  {
   "cell_type": "code",
   "execution_count": null,
   "metadata": {},
   "outputs": [],
   "source": []
  },
  {
   "cell_type": "code",
   "execution_count": null,
   "metadata": {},
   "outputs": [],
   "source": [
    "print(len(lunch_train_data[lunch_train_data[\"soldout\"] == 1]))"
   ]
  },
  {
   "cell_type": "code",
   "execution_count": null,
   "metadata": {},
   "outputs": [],
   "source": [
    "lunch_train_data[lunch_train_data[\"soldout\"] == 1].sort_values(\"y\",ascending = False)"
   ]
  },
  {
   "cell_type": "code",
   "execution_count": null,
   "metadata": {},
   "outputs": [],
   "source": [
    "lunch_train_data[lunch_train_data[\"soldout\"] == 1][\"week\"].value_counts()"
   ]
  },
  {
   "cell_type": "code",
   "execution_count": null,
   "metadata": {
    "scrolled": true
   },
   "outputs": [],
   "source": [
    "lunch_train_data[lunch_train_data[\"soldout\"] == 1][\"name\"].value_counts()"
   ]
  },
  {
   "cell_type": "markdown",
   "metadata": {},
   "source": [
    "売り切れる弁当には傾向がある"
   ]
  },
  {
   "cell_type": "code",
   "execution_count": null,
   "metadata": {},
   "outputs": [],
   "source": []
  },
  {
   "cell_type": "code",
   "execution_count": null,
   "metadata": {},
   "outputs": [],
   "source": []
  },
  {
   "cell_type": "code",
   "execution_count": null,
   "metadata": {},
   "outputs": [],
   "source": []
  },
  {
   "cell_type": "code",
   "execution_count": null,
   "metadata": {},
   "outputs": [],
   "source": []
  },
  {
   "cell_type": "code",
   "execution_count": null,
   "metadata": {},
   "outputs": [],
   "source": []
  },
  {
   "cell_type": "code",
   "execution_count": null,
   "metadata": {},
   "outputs": [],
   "source": []
  },
  {
   "cell_type": "code",
   "execution_count": null,
   "metadata": {},
   "outputs": [],
   "source": [
    "#散布図\n",
    "plt.scatter(lunch_train_data[\"temperature\"],lunch_train_data[\"y\"])"
   ]
  },
  {
   "cell_type": "code",
   "execution_count": null,
   "metadata": {},
   "outputs": [],
   "source": [
    "#相関係数\n",
    "np.corrcoef(lunch_train_data[\"temperature\"],lunch_train_data[\"y\"])"
   ]
  },
  {
   "cell_type": "code",
   "execution_count": null,
   "metadata": {},
   "outputs": [],
   "source": [
    "sns.regplot(x = lunch_train_data[\"temperature\"],y = lunch_train_data[\"y\"])"
   ]
  },
  {
   "cell_type": "markdown",
   "metadata": {},
   "source": [
    "    気温と販売数には負の相関関係が存在する\n",
    "    相関係数　-0.65533219\n",
    "    月ごとに大きく違いがある→日付データは月だけ抽出してカテゴリデータとして扱う"
   ]
  },
  {
   "cell_type": "markdown",
   "metadata": {},
   "source": [
    "# メニュー"
   ]
  },
  {
   "cell_type": "code",
   "execution_count": null,
   "metadata": {},
   "outputs": [],
   "source": [
    "lunch_menu = lunch_train_data[\"name\"].unique()"
   ]
  },
  {
   "cell_type": "code",
   "execution_count": null,
   "metadata": {
    "scrolled": true
   },
   "outputs": [],
   "source": [
    "print(lunch_menu)"
   ]
  },
  {
   "cell_type": "code",
   "execution_count": null,
   "metadata": {},
   "outputs": [],
   "source": [
    "print(len(lunch_menu),\"種類\")"
   ]
  },
  {
   "cell_type": "code",
   "execution_count": null,
   "metadata": {
    "scrolled": false
   },
   "outputs": [],
   "source": [
    "lunch_train_data[\"name\"].value_counts()"
   ]
  },
  {
   "cell_type": "code",
   "execution_count": null,
   "metadata": {},
   "outputs": [],
   "source": [
    "lunch_test_data[\"name\"].value_counts()"
   ]
  },
  {
   "cell_type": "code",
   "execution_count": null,
   "metadata": {},
   "outputs": [],
   "source": []
  },
  {
   "cell_type": "code",
   "execution_count": null,
   "metadata": {},
   "outputs": [],
   "source": []
  },
  {
   "cell_type": "code",
   "execution_count": null,
   "metadata": {
    "scrolled": true
   },
   "outputs": [],
   "source": [
    "#yの降順\n",
    "lunch_train_data.sort_values(\"y\",ascending = False).head(20)"
   ]
  },
  {
   "cell_type": "markdown",
   "metadata": {},
   "source": [
    "    肉類、揚げ物類の日が多いわけでは無い→弁当名はあんまり関係がないかもしれない"
   ]
  },
  {
   "cell_type": "markdown",
   "metadata": {},
   "source": [
    "# カテゴリ変数"
   ]
  },
  {
   "cell_type": "code",
   "execution_count": null,
   "metadata": {},
   "outputs": [],
   "source": [
    "#特記事項\n",
    "remarks = list(lunch_train_data[\"remarks\"].dropna().unique())"
   ]
  },
  {
   "cell_type": "code",
   "execution_count": null,
   "metadata": {},
   "outputs": [],
   "source": [
    "print(type(remarks))\n",
    "print(len(remarks))\n",
    "print(remarks)"
   ]
  },
  {
   "cell_type": "code",
   "execution_count": null,
   "metadata": {},
   "outputs": [],
   "source": [
    "lunch_train_data[lunch_train_data[\"remarks\"].isin(remarks)].sort_values(\"y\",ascending=False)"
   ]
  },
  {
   "cell_type": "code",
   "execution_count": null,
   "metadata": {},
   "outputs": [],
   "source": [
    "event = list(lunch_train_data[\"event\"].dropna().unique())"
   ]
  },
  {
   "cell_type": "code",
   "execution_count": null,
   "metadata": {},
   "outputs": [],
   "source": [
    "print(len(event))\n",
    "print(event)"
   ]
  },
  {
   "cell_type": "code",
   "execution_count": null,
   "metadata": {},
   "outputs": [],
   "source": [
    "lunch_train_data[lunch_train_data[\"event\"].isin(event)].sort_values(\"y\",ascending=False)"
   ]
  },
  {
   "cell_type": "markdown",
   "metadata": {},
   "source": [
    "# 天気"
   ]
  },
  {
   "cell_type": "code",
   "execution_count": null,
   "metadata": {},
   "outputs": [],
   "source": [
    "#天気\n",
    "print(lunch_train_data[\"weather\"].unique())"
   ]
  },
  {
   "cell_type": "code",
   "execution_count": null,
   "metadata": {},
   "outputs": [],
   "source": [
    "lunch_train_data[\"weather\"].value_counts()"
   ]
  },
  {
   "cell_type": "code",
   "execution_count": null,
   "metadata": {},
   "outputs": [],
   "source": [
    "fine_weather = lunch_train_data[lunch_train_data[\"weather\"] == \"快晴\"]\n",
    "cloud = lunch_train_data[lunch_train_data[\"weather\"] == \"曇\"]\n",
    "sunny = lunch_train_data[lunch_train_data[\"weather\"] == \"晴れ\"]\n",
    "thin_could = lunch_train_data[lunch_train_data[\"weather\"] == \"薄曇\"]\n",
    "rainy = lunch_train_data[lunch_train_data[\"weather\"] == \"雨\"]\n"
   ]
  },
  {
   "cell_type": "code",
   "execution_count": null,
   "metadata": {},
   "outputs": [],
   "source": [
    "plt.figure(figsize=(6,6))\n",
    "plt.scatter(fine_weather[\"temperature\"],fine_weather[\"y\"],label=\"fine_weather\",c = \"red\")\n",
    "plt.scatter(cloud[\"temperature\"],cloud[\"y\"],label=\"cloud\",c = \"blue\")\n",
    "plt.scatter(sunny[\"temperature\"],sunny[\"y\"],label=\"sunny\",c = \"m\")\n",
    "plt.scatter(thin_could[\"temperature\"],thin_could[\"y\"],label=\"thin_could\",c = \"c\")\n",
    "plt.scatter(rainy[\"temperature\"],rainy[\"y\"],label=\"rainy\",c = \"g\")\n",
    "plt.xlabel(\"temperature\")\n",
    "plt.ylabel(\"y\")\n",
    "\n",
    "plt.legend()"
   ]
  },
  {
   "cell_type": "markdown",
   "metadata": {},
   "source": [
    "    天気はあまり影響がなさそう\n",
    "    "
   ]
  },
  {
   "cell_type": "code",
   "execution_count": null,
   "metadata": {},
   "outputs": [],
   "source": []
  },
  {
   "cell_type": "code",
   "execution_count": null,
   "metadata": {},
   "outputs": [],
   "source": [
    "\n",
    "#訓練データ月を加工\n",
    "#lunch_train_data[\"month\"] = pd.to_datetime(lunch_train_data[\"datetime\"]).dt.month\n",
    "#lunch_train_data[\"month\"] = lunch_train_data[\"month\"]\n",
    "\n",
    "#テストデータ月を加工\n",
    "#lunch_test_data[\"month\"] = pd.to_datetime(lunch_test_data[\"datetime\"]).dt.month\n",
    "#lunch_test_data[\"month\"] = lunch_test_data[\"month\"]"
   ]
  },
  {
   "cell_type": "code",
   "execution_count": null,
   "metadata": {},
   "outputs": [],
   "source": [
    "lunch_train_data.head()"
   ]
  },
  {
   "cell_type": "code",
   "execution_count": null,
   "metadata": {
    "scrolled": true
   },
   "outputs": [],
   "source": [
    "#訓練データ加工\n",
    "lunch_drop_data = lunch_train_data.drop([\"name\",\"precipitation\",\"datetime\",\"soldout\",\"kcal\",\"payday\"],axis=1)\n",
    "lunch_dummies_data =  pd.get_dummies(lunch_drop_data)\n",
    "\n",
    "#lunch_dummies_data_month =  pd.get_dummies(lunch_dummies_data[\"month\"])\n",
    "\n",
    "#lunch_dummies_data = pd.concat([lunch_dummies_data,lunch_dummies_data_month],axis=1)\n",
    "#lunch_dummies_data = lunch_dummies_data.drop([\"month\"],axis=1)\n",
    "\n",
    "print(len(lunch_dummies_data.columns))\n",
    "print(lunch_dummies_data.columns)"
   ]
  },
  {
   "cell_type": "code",
   "execution_count": null,
   "metadata": {},
   "outputs": [],
   "source": [
    "#テストデータ加工\n",
    "lunch_test_drop_data = lunch_test_data.drop([\"name\",\"precipitation\",\"datetime\",\"soldout\",\"kcal\",\"payday\"],axis=1)\n",
    "lunch_test_dummies_data =  pd.get_dummies(lunch_test_drop_data)\n",
    "\n",
    "#lunch_test_dummies_data_month =  pd.get_dummies(lunch_test_dummies_data[\"month\"])\n",
    "\n",
    "#lunch_test_dummies_data = pd.concat([lunch_test_dummies_data,lunch_test_dummies_data_month],axis=1)\n",
    "#lunch_test_dummies_data = lunch_test_dummies_data.drop([\"month\"],axis=1)\n",
    "\n",
    "print(len(lunch_test_dummies_data.columns))\n",
    "print(lunch_test_dummies_data.columns)"
   ]
  },
  {
   "cell_type": "code",
   "execution_count": null,
   "metadata": {},
   "outputs": [],
   "source": [
    "#カラムの差分を確認\n",
    "train_columns = set(lunch_dummies_data.columns)\n",
    "test_columns = set(lunch_test_dummies_data.columns)\n",
    "\n",
    "diff_list_train = list(train_columns - test_columns)\n",
    "diff_list_test = list(test_columns - train_columns)\n",
    "\n",
    "print(diff_list_train)\n",
    "\n",
    "print(diff_list_test)"
   ]
  },
  {
   "cell_type": "code",
   "execution_count": null,
   "metadata": {},
   "outputs": [],
   "source": [
    "#データ用意\n",
    "X_train = lunch_dummies_data.drop(diff_list_train,axis=1)\n",
    "y_train = lunch_dummies_data[\"y\"]\n",
    "\n",
    "X_test = lunch_test_dummies_data.drop(diff_list_test,axis=1)\n"
   ]
  },
  {
   "cell_type": "code",
   "execution_count": null,
   "metadata": {},
   "outputs": [],
   "source": [
    "from sklearn.svm import SVR\n",
    "#SVRのインスタンス生成\n",
    "cvr = SVR()\n",
    "\n",
    "cvr.fit(X_train,y_train)\n",
    "\n",
    "y_pred = cvr.predict(X_test)"
   ]
  },
  {
   "cell_type": "code",
   "execution_count": null,
   "metadata": {},
   "outputs": [],
   "source": [
    "cvr.score(X_train,y_train)"
   ]
  },
  {
   "cell_type": "code",
   "execution_count": null,
   "metadata": {},
   "outputs": [],
   "source": [
    "plt.plot(y_pred)"
   ]
  },
  {
   "cell_type": "code",
   "execution_count": null,
   "metadata": {
    "scrolled": true
   },
   "outputs": [],
   "source": [
    "result = pd.DataFrame(lunch_test_data[\"datetime\"])\n",
    "print(result.shape)"
   ]
  },
  {
   "cell_type": "code",
   "execution_count": null,
   "metadata": {
    "scrolled": true
   },
   "outputs": [],
   "source": [
    "y_pred_int = []\n",
    "\n",
    "for i in y_pred:\n",
    "    y_pred_int.append(int(i))\n",
    "\n",
    "result[\"y\"]= y_pred_int"
   ]
  },
  {
   "cell_type": "code",
   "execution_count": null,
   "metadata": {},
   "outputs": [],
   "source": [
    "#結果の出力\n",
    "result.to_csv(\"弁当_result_svr_default.csv\",index=False,header=False)"
   ]
  },
  {
   "cell_type": "markdown",
   "metadata": {},
   "source": [
    "# 標準化"
   ]
  },
  {
   "cell_type": "code",
   "execution_count": null,
   "metadata": {},
   "outputs": [],
   "source": [
    "#StadardScaler\n",
    "from sklearn.preprocessing import StandardScaler\n",
    "standard_scaler = StandardScaler()\n",
    "\n",
    "standard_scaler.fit(X_train)\n",
    "\n",
    "X_train_standard_scaled = standard_scaler.transform(X_train)\n",
    "X_test_standard_scaled = standard_scaler.transform(X_test)"
   ]
  },
  {
   "cell_type": "code",
   "execution_count": null,
   "metadata": {},
   "outputs": [],
   "source": [
    "cvr.fit(X_train_standard_scaled,y_train)\n",
    "y_pred = cvr.predict(X_test_standard_scaled)\n",
    "\n",
    "cvr.score(X_train_standard_scaled,y_train)"
   ]
  },
  {
   "cell_type": "code",
   "execution_count": null,
   "metadata": {},
   "outputs": [],
   "source": [
    "plt.plot(y_pred)"
   ]
  },
  {
   "cell_type": "code",
   "execution_count": null,
   "metadata": {},
   "outputs": [],
   "source": [
    "result = pd.DataFrame(lunch_test_data[\"datetime\"])\n",
    "print(result.shape)\n",
    "\n",
    "y_pred_int_h = []\n",
    "\n",
    "for i in y_pred:\n",
    "    y_pred_int_h.append(int(i))\n",
    "\n",
    "result[\"y\"]= y_pred_int_h\n"
   ]
  },
  {
   "cell_type": "code",
   "execution_count": null,
   "metadata": {},
   "outputs": [],
   "source": [
    "#結果の出力\n",
    "result.to_csv(\"弁当_result_svr_standardscaler_1.csv\",index=False,header=False)"
   ]
  },
  {
   "cell_type": "code",
   "execution_count": null,
   "metadata": {},
   "outputs": [],
   "source": []
  },
  {
   "cell_type": "markdown",
   "metadata": {},
   "source": [
    "# 週ごとにしてみる"
   ]
  },
  {
   "cell_type": "code",
   "execution_count": null,
   "metadata": {},
   "outputs": [],
   "source": [
    "from datetime import datetime\n",
    "from datetime import date"
   ]
  },
  {
   "cell_type": "code",
   "execution_count": null,
   "metadata": {},
   "outputs": [],
   "source": [
    "#文字から日付に変換\n",
    "lunch_train_data[\"datetime_timestamp\"] = pd.to_datetime(lunch_train_data[\"datetime\"])\n",
    "\n",
    "calender = []\n",
    "count = len(lunch_train_data)\n",
    "for i in range(0,count):\n",
    "    year = lunch_train_data[\"datetime_timestamp\"][i].year\n",
    "    month = lunch_train_data[\"datetime_timestamp\"][i].month\n",
    "    day = lunch_train_data[\"datetime_timestamp\"][i].day\n",
    "    #print(year,\" \",month,\" \",day)\n",
    "    print(datetime(year, month, day).isocalendar()[1])\n",
    "    "
   ]
  },
  {
   "cell_type": "code",
   "execution_count": null,
   "metadata": {},
   "outputs": [],
   "source": []
  },
  {
   "cell_type": "code",
   "execution_count": null,
   "metadata": {},
   "outputs": [],
   "source": []
  },
  {
   "cell_type": "code",
   "execution_count": null,
   "metadata": {},
   "outputs": [],
   "source": []
  },
  {
   "cell_type": "code",
   "execution_count": null,
   "metadata": {},
   "outputs": [],
   "source": []
  },
  {
   "cell_type": "code",
   "execution_count": null,
   "metadata": {},
   "outputs": [],
   "source": []
  },
  {
   "cell_type": "code",
   "execution_count": null,
   "metadata": {},
   "outputs": [],
   "source": []
  },
  {
   "cell_type": "code",
   "execution_count": null,
   "metadata": {},
   "outputs": [],
   "source": []
  },
  {
   "cell_type": "code",
   "execution_count": null,
   "metadata": {},
   "outputs": [],
   "source": []
  },
  {
   "cell_type": "code",
   "execution_count": null,
   "metadata": {},
   "outputs": [],
   "source": []
  },
  {
   "cell_type": "code",
   "execution_count": null,
   "metadata": {},
   "outputs": [],
   "source": []
  },
  {
   "cell_type": "code",
   "execution_count": null,
   "metadata": {},
   "outputs": [],
   "source": []
  }
 ],
 "metadata": {
  "kernelspec": {
   "display_name": "Python 3",
   "language": "python",
   "name": "python3"
  },
  "language_info": {
   "codemirror_mode": {
    "name": "ipython",
    "version": 3
   },
   "file_extension": ".py",
   "mimetype": "text/x-python",
   "name": "python",
   "nbconvert_exporter": "python",
   "pygments_lexer": "ipython3",
   "version": "3.7.3"
  }
 },
 "nbformat": 4,
 "nbformat_minor": 2
}
