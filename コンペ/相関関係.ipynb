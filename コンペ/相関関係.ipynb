{
 "cells": [
  {
   "cell_type": "code",
   "execution_count": 1,
   "metadata": {},
   "outputs": [],
   "source": [
    "import pandas as pd\n",
    "import numpy as np\n",
    "import matplotlib.pyplot as plt\n",
    "import seaborn as sns\n",
    "import IPython\n",
    "\n",
    "%matplotlib inline\n",
    "sns.set()"
   ]
  },
  {
   "cell_type": "code",
   "execution_count": 2,
   "metadata": {},
   "outputs": [],
   "source": [
    "#データの読み込み\n",
    "train_data = pd.read_csv(\"train.csv\")\n",
    "test_data = pd.read_csv(\"test.csv\")"
   ]
  },
  {
   "cell_type": "code",
   "execution_count": 3,
   "metadata": {},
   "outputs": [
    {
     "data": {
      "text/html": [
       "<div>\n",
       "<style scoped>\n",
       "    .dataframe tbody tr th:only-of-type {\n",
       "        vertical-align: middle;\n",
       "    }\n",
       "\n",
       "    .dataframe tbody tr th {\n",
       "        vertical-align: top;\n",
       "    }\n",
       "\n",
       "    .dataframe thead th {\n",
       "        text-align: right;\n",
       "    }\n",
       "</style>\n",
       "<table border=\"1\" class=\"dataframe\">\n",
       "  <thead>\n",
       "    <tr style=\"text-align: right;\">\n",
       "      <th></th>\n",
       "      <th>ID</th>\n",
       "      <th>Score</th>\n",
       "      <th>col1</th>\n",
       "      <th>col2</th>\n",
       "      <th>col3</th>\n",
       "      <th>col4</th>\n",
       "      <th>col5</th>\n",
       "      <th>col6</th>\n",
       "      <th>col7</th>\n",
       "      <th>col8</th>\n",
       "      <th>...</th>\n",
       "      <th>col3796</th>\n",
       "      <th>col3797</th>\n",
       "      <th>col3798</th>\n",
       "      <th>col3799</th>\n",
       "      <th>col3800</th>\n",
       "      <th>col3801</th>\n",
       "      <th>col3802</th>\n",
       "      <th>col3803</th>\n",
       "      <th>col3804</th>\n",
       "      <th>col3805</th>\n",
       "    </tr>\n",
       "  </thead>\n",
       "  <tbody>\n",
       "    <tr>\n",
       "      <th>0</th>\n",
       "      <td>5</td>\n",
       "      <td>3.475628</td>\n",
       "      <td>0</td>\n",
       "      <td>4.058</td>\n",
       "      <td>0.824</td>\n",
       "      <td>0</td>\n",
       "      <td>10.267</td>\n",
       "      <td>0.728</td>\n",
       "      <td>4.403</td>\n",
       "      <td>0.050</td>\n",
       "      <td>...</td>\n",
       "      <td>1.067</td>\n",
       "      <td>0</td>\n",
       "      <td>0.0</td>\n",
       "      <td>0.115</td>\n",
       "      <td>30.395</td>\n",
       "      <td>24.541</td>\n",
       "      <td>0</td>\n",
       "      <td>0.415</td>\n",
       "      <td>0.997</td>\n",
       "      <td>0</td>\n",
       "    </tr>\n",
       "    <tr>\n",
       "      <th>1</th>\n",
       "      <td>8</td>\n",
       "      <td>3.601332</td>\n",
       "      <td>0</td>\n",
       "      <td>4.111</td>\n",
       "      <td>0.929</td>\n",
       "      <td>0</td>\n",
       "      <td>8.352</td>\n",
       "      <td>0.907</td>\n",
       "      <td>4.216</td>\n",
       "      <td>0.034</td>\n",
       "      <td>...</td>\n",
       "      <td>0.934</td>\n",
       "      <td>0</td>\n",
       "      <td>0.0</td>\n",
       "      <td>0.227</td>\n",
       "      <td>38.508</td>\n",
       "      <td>35.038</td>\n",
       "      <td>0</td>\n",
       "      <td>3.979</td>\n",
       "      <td>0.997</td>\n",
       "      <td>3</td>\n",
       "    </tr>\n",
       "    <tr>\n",
       "      <th>2</th>\n",
       "      <td>9</td>\n",
       "      <td>1.935003</td>\n",
       "      <td>0</td>\n",
       "      <td>4.139</td>\n",
       "      <td>0.833</td>\n",
       "      <td>66</td>\n",
       "      <td>9.494</td>\n",
       "      <td>0.733</td>\n",
       "      <td>4.069</td>\n",
       "      <td>0.267</td>\n",
       "      <td>...</td>\n",
       "      <td>1.722</td>\n",
       "      <td>0</td>\n",
       "      <td>0.0</td>\n",
       "      <td>0.148</td>\n",
       "      <td>27.932</td>\n",
       "      <td>19.518</td>\n",
       "      <td>0</td>\n",
       "      <td>0.849</td>\n",
       "      <td>0.999</td>\n",
       "      <td>0</td>\n",
       "    </tr>\n",
       "    <tr>\n",
       "      <th>3</th>\n",
       "      <td>12</td>\n",
       "      <td>3.283663</td>\n",
       "      <td>0</td>\n",
       "      <td>4.016</td>\n",
       "      <td>0.880</td>\n",
       "      <td>0</td>\n",
       "      <td>8.237</td>\n",
       "      <td>0.836</td>\n",
       "      <td>3.956</td>\n",
       "      <td>0.129</td>\n",
       "      <td>...</td>\n",
       "      <td>0.993</td>\n",
       "      <td>0</td>\n",
       "      <td>0.0</td>\n",
       "      <td>0.124</td>\n",
       "      <td>18.993</td>\n",
       "      <td>25.403</td>\n",
       "      <td>0</td>\n",
       "      <td>0.988</td>\n",
       "      <td>0.998</td>\n",
       "      <td>0</td>\n",
       "    </tr>\n",
       "    <tr>\n",
       "      <th>4</th>\n",
       "      <td>14</td>\n",
       "      <td>3.409121</td>\n",
       "      <td>0</td>\n",
       "      <td>4.657</td>\n",
       "      <td>0.522</td>\n",
       "      <td>0</td>\n",
       "      <td>35.882</td>\n",
       "      <td>0.383</td>\n",
       "      <td>4.234</td>\n",
       "      <td>-0.089</td>\n",
       "      <td>...</td>\n",
       "      <td>2.095</td>\n",
       "      <td>0</td>\n",
       "      <td>0.0</td>\n",
       "      <td>0.088</td>\n",
       "      <td>44.225</td>\n",
       "      <td>15.741</td>\n",
       "      <td>0</td>\n",
       "      <td>1.595</td>\n",
       "      <td>0.997</td>\n",
       "      <td>0</td>\n",
       "    </tr>\n",
       "  </tbody>\n",
       "</table>\n",
       "<p>5 rows × 3807 columns</p>\n",
       "</div>"
      ],
      "text/plain": [
       "   ID     Score  col1   col2   col3  col4    col5   col6   col7   col8  ...  \\\n",
       "0   5  3.475628     0  4.058  0.824     0  10.267  0.728  4.403  0.050  ...   \n",
       "1   8  3.601332     0  4.111  0.929     0   8.352  0.907  4.216  0.034  ...   \n",
       "2   9  1.935003     0  4.139  0.833    66   9.494  0.733  4.069  0.267  ...   \n",
       "3  12  3.283663     0  4.016  0.880     0   8.237  0.836  3.956  0.129  ...   \n",
       "4  14  3.409121     0  4.657  0.522     0  35.882  0.383  4.234 -0.089  ...   \n",
       "\n",
       "   col3796  col3797  col3798  col3799  col3800  col3801  col3802  col3803  \\\n",
       "0    1.067        0      0.0    0.115   30.395   24.541        0    0.415   \n",
       "1    0.934        0      0.0    0.227   38.508   35.038        0    3.979   \n",
       "2    1.722        0      0.0    0.148   27.932   19.518        0    0.849   \n",
       "3    0.993        0      0.0    0.124   18.993   25.403        0    0.988   \n",
       "4    2.095        0      0.0    0.088   44.225   15.741        0    1.595   \n",
       "\n",
       "   col3804  col3805  \n",
       "0    0.997        0  \n",
       "1    0.997        3  \n",
       "2    0.999        0  \n",
       "3    0.998        0  \n",
       "4    0.997        0  \n",
       "\n",
       "[5 rows x 3807 columns]"
      ]
     },
     "execution_count": 3,
     "metadata": {},
     "output_type": "execute_result"
    }
   ],
   "source": [
    "train_data.head()"
   ]
  },
  {
   "cell_type": "code",
   "execution_count": 12,
   "metadata": {},
   "outputs": [],
   "source": [
    "Score = train_data[\"Score\"]\n",
    "columns = train_data.drop([\"ID\",\"Score\"],axis=1)"
   ]
  },
  {
   "cell_type": "code",
   "execution_count": 19,
   "metadata": {},
   "outputs": [],
   "source": [
    "coef_list = []\n",
    "for column in columns:\n",
    "    coef = np.corrcoef(Score,columns[column])[0,1]\n",
    "    coef_list.append(coef)"
   ]
  },
  {
   "cell_type": "code",
   "execution_count": 26,
   "metadata": {},
   "outputs": [
    {
     "name": "stdout",
     "output_type": "stream",
     "text": [
      "col 3   0.21376411275606552\n",
      "col 6   0.20987428354570137\n",
      "col 243   0.2067427741512109\n",
      "col 292   0.221187806066504\n",
      "col 329   0.2380887850224414\n",
      "col 420   0.20587665317002854\n",
      "col 610   0.20742707085702725\n",
      "col 645   0.21523004157838183\n",
      "col 856   0.20259051411148357\n",
      "col 920   0.2680492814385278\n",
      "col 1050   0.2120990339676736\n",
      "col 1300   0.20538040772842409\n",
      "col 1327   0.2127314329679627\n",
      "col 1401   0.2037752055690125\n",
      "col 1612   0.20016440259349527\n",
      "col 1619   0.23223313671181786\n",
      "col 1656   0.2037752055690125\n",
      "col 1664   0.20457701700401246\n",
      "col 1696   0.20742514222594266\n",
      "col 2003   0.2041738481384875\n",
      "col 2045   0.21687434101683584\n",
      "col 2131   0.21386094443560294\n",
      "col 2133   0.20267461595039596\n",
      "col 2140   0.229682082746111\n",
      "col 2390   0.20516697946062692\n",
      "col 2621   0.2012088370674961\n",
      "col 2673   0.21197523307442814\n",
      "col 2689   0.20374309143664768\n",
      "col 2724   0.21209966838012964\n",
      "col 2823   0.20583083953179795\n",
      "col 2840   0.20383439328589883\n",
      "col 3043   0.21030138784352984\n",
      "col 3134   0.2041738481384875\n",
      "col 3239   0.20087143161363077\n",
      "col 3302   0.2007004200279192\n",
      "col 3319   0.21209966838012964\n",
      "col 3320   0.2357273284626527\n",
      "col 3355   0.2175474047345209\n",
      "col 3508   0.21712366242527026\n",
      "col 3657   0.20693665130400504\n",
      "col 3670   0.2029461773528743\n",
      "col 3756   0.21786551513039723\n"
     ]
    }
   ],
   "source": [
    "num=1\n",
    "for i in coef_list:\n",
    "    if i>0.2:\n",
    "        print(\"col\",num,\" \",i)\n",
    "    num+=1"
   ]
  },
  {
   "cell_type": "code",
   "execution_count": 33,
   "metadata": {},
   "outputs": [
    {
     "data": {
      "text/plain": [
       "Text(0, 0.5, 'Frequency')"
      ]
     },
     "execution_count": 33,
     "metadata": {},
     "output_type": "execute_result"
    },
    {
     "data": {
      "image/png": "[encoded data removed]",
      "text/plain": [
       "<Figure size 432x288 with 1 Axes>"
      ]
     },
     "metadata": {
      "needs_background": "light"
     },
     "output_type": "display_data"
    }
   ],
   "source": [
    "plt.hist(train_data[\"col3\"])\n",
    "plt.title(\"col3\")\n",
    "plt.xlabel(\"\")\n",
    "plt.ylabel(\"Frequency\")"
   ]
  },
  {
   "cell_type": "code",
   "execution_count": 34,
   "metadata": {},
   "outputs": [
    {
     "data": {
      "text/plain": [
       "Text(0, 0.5, 'Frequency')"
      ]
     },
     "execution_count": 34,
     "metadata": {},
     "output_type": "execute_result"
    },
    {
     "data": {
      "image/png": "[encoded data removed]",
      "text/plain": [
       "<Figure size 432x288 with 1 Axes>"
      ]
     },
     "metadata": {
      "needs_background": "light"
     },
     "output_type": "display_data"
    }
   ],
   "source": [
    "plt.hist(train_data[\"col6\"])\n",
    "plt.title(\"col6\")\n",
    "plt.xlabel(\"\")\n",
    "plt.ylabel(\"Frequency\")"
   ]
  },
  {
   "cell_type": "code",
   "execution_count": 35,
   "metadata": {},
   "outputs": [
    {
     "data": {
      "text/plain": [
       "Text(0, 0.5, 'Frequency')"
      ]
     },
     "execution_count": 35,
     "metadata": {},
     "output_type": "execute_result"
    },
    {
     "data": {
      "image/png": "[encoded data removed]",
      "text/plain": [
       "<Figure size 432x288 with 1 Axes>"
      ]
     },
     "metadata": {
      "needs_background": "light"
     },
     "output_type": "display_data"
    }
   ],
   "source": [
    "plt.hist(train_data[\"col243\"])\n",
    "plt.title(\"col6\")\n",
    "plt.xlabel(\"\")\n",
    "plt.ylabel(\"Frequency\")"
   ]
  },
  {
   "cell_type": "code",
   "execution_count": null,
   "metadata": {},
   "outputs": [],
   "source": []
  },
  {
   "cell_type": "code",
   "execution_count": null,
   "metadata": {},
   "outputs": [],
   "source": []
  }
 ],
 "metadata": {
  "kernelspec": {
   "display_name": "Python 3",
   "language": "python",
   "name": "python3"
  },
  "language_info": {
   "codemirror_mode": {
    "name": "ipython",
    "version": 3
   },
   "file_extension": ".py",
   "mimetype": "text/x-python",
   "name": "python",
   "nbconvert_exporter": "python",
   "pygments_lexer": "ipython3",
   "version": "3.7.3"
  }
 },
 "nbformat": 4,
 "nbformat_minor": 2
}
