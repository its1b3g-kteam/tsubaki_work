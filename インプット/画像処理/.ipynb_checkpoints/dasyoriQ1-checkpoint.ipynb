{
 "cells": [
  {
   "cell_type": "markdown",
   "metadata": {},
   "source": [
    "## Q1チャンネル入れ替え"
   ]
  },
  {
   "cell_type": "code",
   "execution_count": 2,
   "metadata": {},
   "outputs": [],
   "source": [
    "import cv2\n",
    "import numpy as np\n",
    "import matplotlib .pyplot as plt"
   ]
  },
  {
   "cell_type": "code",
   "execution_count": 2,
   "metadata": {},
   "outputs": [],
   "source": [
    "#画像の読み込み\n",
    "img = cv2.imread(\"assets/imori.jpg\")"
   ]
  },
  {
   "cell_type": "code",
   "execution_count": 39,
   "metadata": {},
   "outputs": [],
   "source": [
    "#順番を入れ替える BGR-> RBG\n",
    "\n",
    "B = img[:,:,0].copy()\n",
    "G = img[:,:,1].copy()\n",
    "R = img[:,:,2].copy()\n",
    "\n",
    "img[:,:,0] = R\n",
    "img[:,:,1] = B\n",
    "img[:,:,2] = G"
   ]
  },
  {
   "cell_type": "code",
   "execution_count": 40,
   "metadata": {},
   "outputs": [],
   "source": [
    "cv2.imshow('result',img)\n",
    "cv2.waitKey(0)\n",
    "cv2.destroyAllWindows()"
   ]
  },
  {
   "cell_type": "code",
   "execution_count": null,
   "metadata": {},
   "outputs": [],
   "source": []
  },
  {
   "cell_type": "markdown",
   "metadata": {},
   "source": [
    "## Q2グレースケール化"
   ]
  },
  {
   "cell_type": "code",
   "execution_count": 3,
   "metadata": {},
   "outputs": [],
   "source": [
    "#read floatで取得\n",
    "img = cv2.imread(\"assets/imori.jpg\").astype(np.float)"
   ]
  },
  {
   "cell_type": "code",
   "execution_count": 4,
   "metadata": {},
   "outputs": [],
   "source": [
    "#グレー化\n",
    "b = img[:,:,0]\n",
    "g = img[:,:,1]\n",
    "r = img[:,:,2]\n",
    "\n",
    "#計算\n",
    "gray = 0.2126 * r + 0.7152 * g + 0.0722 * b\n",
    "out = gray.astype(np.uint8)"
   ]
  },
  {
   "cell_type": "code",
   "execution_count": 5,
   "metadata": {},
   "outputs": [],
   "source": [
    "cv2.imshow('result',out)\n",
    "cv2.waitKey(0)\n",
    "cv2.destroyAllWindows()\n",
    "\n",
    "#画僧読み込み→astypeでfloatに変換→画像いじる→uint8に変換"
   ]
  },
  {
   "cell_type": "code",
   "execution_count": null,
   "metadata": {},
   "outputs": [],
   "source": []
  },
  {
   "cell_type": "markdown",
   "metadata": {},
   "source": [
    "## Q3二値化"
   ]
  },
  {
   "cell_type": "code",
   "execution_count": 49,
   "metadata": {},
   "outputs": [],
   "source": [
    "#グレースケールを二値化する\n",
    "out = gray.copy()\n",
    "\n",
    "#閾値 以下なら値を0に以上なら255に変更する\n",
    "th = 128\n",
    "out[out<th] = 0\n",
    "out[out>= th] = 255"
   ]
  },
  {
   "cell_type": "code",
   "execution_count": 50,
   "metadata": {},
   "outputs": [],
   "source": [
    "cv2.imshow(\"\",out)\n",
    "cv2.waitKey(0)\n",
    "cv2.destroyAllWindows()"
   ]
  },
  {
   "cell_type": "code",
   "execution_count": null,
   "metadata": {},
   "outputs": [],
   "source": []
  },
  {
   "cell_type": "markdown",
   "metadata": {},
   "source": [
    "## Q4大津の二値化"
   ]
  },
  {
   "cell_type": "code",
   "execution_count": 11,
   "metadata": {},
   "outputs": [],
   "source": [
    "img = cv2.imread(\"assets/imori.jpg\").astype(np.float)"
   ]
  },
  {
   "cell_type": "code",
   "execution_count": 12,
   "metadata": {},
   "outputs": [
    {
     "data": {
      "image/png": "[encoded data removed]",
      "text/plain": [
       "<Figure size 432x288 with 1 Axes>"
      ]
     },
     "metadata": {
      "needs_background": "light"
     },
     "output_type": "display_data"
    }
   ],
   "source": [
    "#グレースケール\n",
    "gray = 0.2126 * img[...,2] + 0.7152 * img[...,1] + 0.0722 * img[...,0]\n",
    "\n",
    "\n",
    "plt.hist(gray.ravel(),bins = 255,rwidth = 0.8,range=(0,255))\n",
    "plt.xlabel(\"value\")\n",
    "plt.ylabel(\"appearance\")\n",
    "plt.show()"
   ]
  },
  {
   "cell_type": "code",
   "execution_count": 13,
   "metadata": {},
   "outputs": [],
   "source": [
    "def otsu_binarization(img):\n",
    "\tmax_sigma = 0\n",
    "\tmax_t = 0\n",
    "\tH, W = img.shape\n",
    "\t# determine threshold\n",
    "\tfor _t in range(1, 256):\n",
    "\t\tv0 = out[np.where(out < _t)]\n",
    "\t\tm0 = np.mean(v0) if len(v0) > 0 else 0. #画素値の平均値\n",
    "\t\tw0 = len(v0) / (H * W) #画素数の計算\n",
    "\t\tv1 = out[np.where(out >= _t)]\n",
    "\t\tm1 = np.mean(v1) if len(v1) > 0 else 0. #画素値の平均値\n",
    "\t\tw1 = len(v1) / (H * W) #画素数の計算\n",
    "\t\tsigma = w0 * w1 * ((m0 - m1) ** 2)\n",
    "\t\tif sigma > max_sigma:\n",
    "\t\t\tmax_sigma = sigma\n",
    "\t\t\tmax_t = _t\n",
    "\n",
    "\t# Binarization\n",
    "\tprint(\"threshold >>\", max_t)\n",
    "\tth = max_t\n",
    "\tout[out < th] = 0\n",
    "\tout[out >= th] = 255\n",
    "\n",
    "\treturn out"
   ]
  },
  {
   "cell_type": "code",
   "execution_count": 14,
   "metadata": {},
   "outputs": [
    {
     "name": "stdout",
     "output_type": "stream",
     "text": [
      "threshold >> 127\n"
     ]
    }
   ],
   "source": [
    "out = gray.astype(np.uint8)\n",
    "out = otsu_binarization(out)\n",
    "\n",
    "cv2.imshow(\"\",out)\n",
    "cv2.waitKey(0)\n",
    "cv2.destroyAllWindows()"
   ]
  },
  {
   "cell_type": "code",
   "execution_count": null,
   "metadata": {},
   "outputs": [],
   "source": []
  },
  {
   "cell_type": "markdown",
   "metadata": {},
   "source": [
    "## Q5HSV変換"
   ]
  },
  {
   "cell_type": "markdown",
   "metadata": {},
   "source": [
    "HSV変換  \n",
    "Hue(色相)、Saturation(彩度)、Value(明度)  \n",
    "Hue (0 <= H < 360)　色合いを0～360度で表現する  \n",
    "Saturation (0 <= S < 1)　色の鮮やかさ、低いと灰色さが増す  \n",
    "Value (0 <= V < 1)　色の明るさ、高いほど白い  "
   ]
  },
  {
   "cell_type": "code",
   "execution_count": 3,
   "metadata": {},
   "outputs": [],
   "source": [
    "img = cv2.imread(\"assets/imori.jpg\").astype(np.float32)"
   ]
  },
  {
   "cell_type": "code",
   "execution_count": 4,
   "metadata": {},
   "outputs": [],
   "source": [
    "def change_rgb_hsv(img):\n",
    "    H,W,C = img.shape\n",
    "    #同じ形で要素が0の配列を用意する\n",
    "    hsv = np.zeros_like(img, dtype=np.float32)\n",
    "    \n",
    "    for i in range(0,H):\n",
    "        for j in range(0,W):\n",
    "            #最大値と最小値を取得\n",
    "            Max = max(img[i,j])\n",
    "            Min = min(img[i,j])\n",
    "            r = img[i,j,2]\n",
    "            b = img[i,j,0]\n",
    "            g = img[i,j,1]\n",
    "            \n",
    "            if Max == Min:\n",
    "                hsv[i,j,0] = 0\n",
    "            elif Min == b:\n",
    "                hsv[i,j,0] = 60 * (g - r) / (Max - Min) + 60\n",
    "            elif Min == r:\n",
    "                hsv[i,j,0] = 60 * (b - g) / (Max - Min) + 180\n",
    "            elif Min == g:\n",
    "                hsv[i,j,0] = 60 * (r - b) / (Max - Min) + 300\n",
    "            hsv[i,j,1] = Max \n",
    "            hsv[i,j,2] = Max - Min\n",
    "    return hsv"
   ]
  },
  {
   "cell_type": "code",
   "execution_count": 18,
   "metadata": {},
   "outputs": [],
   "source": [
    "#RBG => HSVに変換\n",
    "out = change_rgb_hsv(img)\n",
    "#0->H 1->V 2->S\n",
    "hsv = np.zeros_like(out,np.float32)\n",
    "hsv[..., 0] = (out[..., 0] + 180) % 360"
   ]
  },
  {
   "cell_type": "code",
   "execution_count": 13,
   "metadata": {},
   "outputs": [],
   "source": [
    "def change_hsv_rgb(img):\n",
    "    H,W,C = img.shape\n",
    "    \n",
    "    out = np.zeros_like(img,dtype = np.float32)\n",
    "    \n",
    "    for i in range(0,H):\n",
    "        for j in range(0,W):\n",
    "            #C = S\n",
    "            C = img[i,j,2]\n",
    "            \n",
    "            H_ = img[i,j,0] / 60\n",
    "            \n",
    "            X =  C * (1 - np.abs( H_ % 2 - 1))\n",
    "            \n",
    "            a = (img[i,j,1] - C) * (float)[1,1,1]\n",
    "            \n",
    "            if H == \"null\":\n",
    "                out[i,j,0] = a[0] + 0\n",
    "                out[i,j,1] = a[1] + 0\n",
    "                out[i,j,2] = a[2] + 0\n",
    "            elif 0 <= H_ < 1:\n",
    "                out[i,j,0] = a[0] + C\n",
    "                out[i,j,1] = a[1] + X\n",
    "                out[i,j,2] = a[2] + 0\n",
    "            elif 1 <= H_ < 2:\n",
    "                out[i,j,0] = a[0] + X\n",
    "                out[i,j,1] = a[1] + C\n",
    "                out[i,j,2] = a[2] + 0\n",
    "            elif 2 <= H_ < 3:\n",
    "                out[i,j,0] = a[0] + 0\n",
    "                out[i,j,1] = a[1] + C\n",
    "                out[i,j,2] = a[2] + X\n",
    "            elif 3 <= H_ < 4:\n",
    "                out[i,j,0] = a[0] + 0\n",
    "                out[i,j,1] = a[1] + X\n",
    "                out[i,j,2] = a[2] + C\n",
    "            elif 4 <= H_ < 5:\n",
    "                out[i,j,0] = a[0] + X\n",
    "                out[i,j,1] = a[1] + 0\n",
    "                out[i,j,2] = a[2] + C\n",
    "            elif 5 <= H_ < 6:\n",
    "                out[i,j,0] = a[0] + C\n",
    "                out[i,j,1] = a[1] + 0\n",
    "                out[i,j,2] = a[2] + X\n",
    "            \n",
    "    out = (out * 255).astype(np.uint8)\n",
    "    return out"
   ]
  },
  {
   "cell_type": "code",
   "execution_count": 22,
   "metadata": {},
   "outputs": [],
   "source": [
    "# BGR -> HSV\n",
    "def BGR2HSV(_img):\n",
    "\timg = _img.copy() / 255.\n",
    "\n",
    "\thsv = np.zeros_like(img, dtype=np.float32)\n",
    "\n",
    "\t# get max and min\n",
    "\tmax_v = np.max(img, axis=2).copy()\n",
    "\tmin_v = np.min(img, axis=2).copy()\n",
    "\tmin_arg = np.argmin(img, axis=2)\n",
    "\n",
    "\t# H\n",
    "\thsv[..., 0][np.where(max_v == min_v)]= 0\n",
    "\t## if min == B\n",
    "\tind = np.where(min_arg == 0)\n",
    "\thsv[..., 0][ind] = 60 * (img[..., 1][ind] - img[..., 2][ind]) / (max_v[ind] - min_v[ind]) + 60\n",
    "\t## if min == R\n",
    "\tind = np.where(min_arg == 2)\n",
    "\thsv[..., 0][ind] = 60 * (img[..., 0][ind] - img[..., 1][ind]) / (max_v[ind] - min_v[ind]) + 180\n",
    "\t## if min == G\n",
    "\tind = np.where(min_arg == 1)\n",
    "\thsv[..., 0][ind] = 60 * (img[..., 2][ind] - img[..., 0][ind]) / (max_v[ind] - min_v[ind]) + 300\n",
    "\t\t\n",
    "\t# S\n",
    "\thsv[..., 1] = max_v.copy() - min_v.copy()\n",
    "\n",
    "\t# V\n",
    "\thsv[..., 2] = max_v.copy()\n",
    "\t\n",
    "\treturn hsv\n",
    "\n",
    "\n",
    "def HSV2BGR(_img, hsv):\n",
    "\timg = _img.copy() / 255.\n",
    "\n",
    "\t# get max and min\n",
    "\tmax_v = np.max(img, axis=2).copy()\n",
    "\tmin_v = np.min(img, axis=2).copy()\n",
    "\n",
    "\tout = np.zeros_like(img)\n",
    "\n",
    "\tH = hsv[..., 0]\n",
    "\tS = hsv[..., 1]\n",
    "\tV = hsv[..., 2]\n",
    "\n",
    "\tC = S\n",
    "\tH_ = H / 60.\n",
    "\tX = C * (1 - np.abs( H_ % 2 - 1))\n",
    "\tZ = np.zeros_like(H)\n",
    "\n",
    "\tvals = [[Z,X,C], [Z,C,X], [X,C,Z], [C,X,Z], [C,Z,X], [X,Z,C]]\n",
    "\n",
    "\tfor i in range(6):\n",
    "\t\tind = np.where((i <= H_) & (H_ < (i+1)))\n",
    "\t\tout[..., 0][ind] = (V - C)[ind] + vals[i][0][ind]\n",
    "\t\tout[..., 1][ind] = (V - C)[ind] + vals[i][1][ind]\n",
    "\t\tout[..., 2][ind] = (V - C)[ind] + vals[i][2][ind]\n",
    "\n",
    "\tout[np.where(max_v == min_v)] = 0\n",
    "\tout = np.clip(out, 0, 1)\n",
    "\tout = (out * 255).astype(np.uint8)\n",
    "\n",
    "\treturn out\n",
    "\n",
    "\n",
    "# Read image\n",
    "img = cv2.imread(\"assets/imori.jpg\").astype(np.float32)\n",
    "\n",
    "# RGB > HSV\n",
    "hsv = BGR2HSV(img)\n",
    "\n",
    "# Transpose Hue\n",
    "hsv[..., 0] = (hsv[..., 0] + 180) % 360\n",
    "\n",
    "# HSV > RGB\n",
    "out = HSV2BGR(img, hsv)"
   ]
  },
  {
   "cell_type": "code",
   "execution_count": 23,
   "metadata": {},
   "outputs": [],
   "source": [
    "cv2.imshow(\"\",out)\n",
    "cv2.waitKey(0)\n",
    "cv2.destroyAllWindows()"
   ]
  },
  {
   "cell_type": "code",
   "execution_count": null,
   "metadata": {},
   "outputs": [],
   "source": []
  },
  {
   "cell_type": "code",
   "execution_count": null,
   "metadata": {},
   "outputs": [],
   "source": []
  },
  {
   "cell_type": "code",
   "execution_count": null,
   "metadata": {},
   "outputs": [],
   "source": []
  },
  {
   "cell_type": "code",
   "execution_count": null,
   "metadata": {},
   "outputs": [],
   "source": []
  },
  {
   "cell_type": "code",
   "execution_count": null,
   "metadata": {},
   "outputs": [],
   "source": []
  }
 ],
 "metadata": {
  "kernelspec": {
   "display_name": "Python 3",
   "language": "python",
   "name": "python3"
  },
  "language_info": {
   "codemirror_mode": {
    "name": "ipython",
    "version": 3
   },
   "file_extension": ".py",
   "mimetype": "text/x-python",
   "name": "python",
   "nbconvert_exporter": "python",
   "pygments_lexer": "ipython3",
   "version": "3.6.9"
  }
 },
 "nbformat": 4,
 "nbformat_minor": 4
}
